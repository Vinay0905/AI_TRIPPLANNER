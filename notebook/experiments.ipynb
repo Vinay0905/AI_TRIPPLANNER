{
 "cells": [
  {
   "cell_type": "code",
   "execution_count": 2,
   "id": "6c99a900",
   "metadata": {},
   "outputs": [
    {
     "name": "stdout",
     "output_type": "stream",
     "text": [
      "ALLGOOD\n"
     ]
    }
   ],
   "source": [
    "print(\"ALLGOOD\")"
   ]
  },
  {
   "cell_type": "code",
   "execution_count": 3,
   "id": "5cac3104",
   "metadata": {},
   "outputs": [
    {
     "data": {
      "text/plain": [
       "True"
      ]
     },
     "execution_count": 3,
     "metadata": {},
     "output_type": "execute_result"
    }
   ],
   "source": [
    "from dotenv import load_dotenv\n",
    "from langchain_groq import ChatGroq\n",
    "load_dotenv()"
   ]
  },
  {
   "cell_type": "code",
   "execution_count": 5,
   "id": "c1ac3ce1",
   "metadata": {},
   "outputs": [],
   "source": [
    "llm=ChatGroq(model=\"deepseek-r1-distill-llama-70b\")"
   ]
  },
  {
   "cell_type": "code",
   "execution_count": 6,
   "id": "427ad98c",
   "metadata": {},
   "outputs": [
    {
     "data": {
      "text/plain": [
       "AIMessage(content='<think>\\n\\n</think>\\n\\nHey Vinay! Nice to meet you. How can I assist you today? 😊', additional_kwargs={}, response_metadata={'token_usage': {'completion_tokens': 23, 'prompt_tokens': 10, 'total_tokens': 33, 'completion_time': 0.125199927, 'prompt_time': 0.000456108, 'queue_time': 0.057375050000000004, 'total_time': 0.125656035}, 'model_name': 'deepseek-r1-distill-llama-70b', 'system_fingerprint': 'fp_76307ac09b', 'finish_reason': 'stop', 'logprobs': None}, id='run--d75d5f18-0fd3-448c-822c-07736d76fa96-0', usage_metadata={'input_tokens': 10, 'output_tokens': 23, 'total_tokens': 33})"
      ]
     },
     "execution_count": 6,
     "metadata": {},
     "output_type": "execute_result"
    }
   ],
   "source": [
    "llm.invoke(\"Hey my name is Vinay.!\")"
   ]
  },
  {
   "cell_type": "code",
   "execution_count": 7,
   "id": "96d4f4b6",
   "metadata": {},
   "outputs": [],
   "source": [
    "from langchain.tools import tool\n",
    "\n"
   ]
  },
  {
   "cell_type": "code",
   "execution_count": 8,
   "id": "1b00307b",
   "metadata": {},
   "outputs": [],
   "source": [
    "@tool\n",
    "\n",
    "def multiply(a:int , b:int )->int :\n",
    "    \"\"\"This is a multiplictaion tool.\"\"\"\n",
    "    pass"
   ]
  },
  {
   "cell_type": "code",
   "execution_count": 9,
   "id": "d55087ba",
   "metadata": {},
   "outputs": [
    {
     "data": {
      "text/plain": [
       "StructuredTool(name='multiply', description='This is a multiplictaion tool.', args_schema=<class 'langchain_core.utils.pydantic.multiply'>, func=<function multiply at 0x000001DF1FF5EC00>)"
      ]
     },
     "execution_count": 9,
     "metadata": {},
     "output_type": "execute_result"
    }
   ],
   "source": [
    "multiply"
   ]
  },
  {
   "cell_type": "code",
   "execution_count": null,
   "id": "39a825a2",
   "metadata": {},
   "outputs": [],
   "source": []
  }
 ],
 "metadata": {
  "kernelspec": {
   "display_name": "env (3.11.13)",
   "language": "python",
   "name": "python3"
  },
  "language_info": {
   "codemirror_mode": {
    "name": "ipython",
    "version": 3
   },
   "file_extension": ".py",
   "mimetype": "text/x-python",
   "name": "python",
   "nbconvert_exporter": "python",
   "pygments_lexer": "ipython3",
   "version": "3.11.13"
  }
 },
 "nbformat": 4,
 "nbformat_minor": 5
}
